{
 "cells": [
  {
   "cell_type": "markdown",
   "id": "b7ccd345",
   "metadata": {},
   "source": [
    "## Importing libraries and tokenizer"
   ]
  },
  {
   "cell_type": "code",
   "execution_count": 13,
   "id": "88de7004",
   "metadata": {},
   "outputs": [],
   "source": [
    "from transformers import T5Tokenizer, T5ForConditionalGeneration\n",
    "import pandas as pd\n",
    "from sklearn.model_selection import train_test_split\n",
    "from sklearn.preprocessing import LabelEncoder"
   ]
  },
  {
   "cell_type": "code",
   "execution_count": 46,
   "id": "c59d659f",
   "metadata": {},
   "outputs": [],
   "source": [
    "import torch\n",
    "from torch.utils.data import DataLoader, TensorDataset"
   ]
  },
  {
   "cell_type": "code",
   "execution_count": 91,
   "id": "1b760218",
   "metadata": {},
   "outputs": [],
   "source": [
    "# Load model directly\n",
    "tokenizer = T5Tokenizer.from_pretrained(\"google/flan-t5-large\")"
   ]
  },
  {
   "cell_type": "markdown",
   "id": "5666177b",
   "metadata": {},
   "source": [
    "## Cleaning Dataset and EDA"
   ]
  },
  {
   "cell_type": "code",
   "execution_count": 166,
   "id": "f8bc0f67",
   "metadata": {},
   "outputs": [],
   "source": [
    "df = pd.read_csv('Q2_20230202_majority 1.csv')"
   ]
  },
  {
   "cell_type": "code",
   "execution_count": 167,
   "id": "bafab6e8",
   "metadata": {},
   "outputs": [
    {
     "data": {
      "text/plain": [
       "label_majority\n",
       "in-favor              2907\n",
       "against               1804\n",
       "neutral-or-unclear    1040\n",
       "Name: count, dtype: int64"
      ]
     },
     "execution_count": 167,
     "metadata": {},
     "output_type": "execute_result"
    }
   ],
   "source": [
    "df['label_majority'].value_counts()"
   ]
  },
  {
   "cell_type": "code",
   "execution_count": 168,
   "id": "1e1cca37",
   "metadata": {},
   "outputs": [],
   "source": [
    "df_infavor = df[df['label_majority'] == 'in-favor']\n",
    "df_against = df[df['label_majority'] == 'against']\n",
    "df_neutral = df[df['label_majority'] == 'neutral-or-unclear']"
   ]
  },
  {
   "cell_type": "code",
   "execution_count": 169,
   "id": "8f058748",
   "metadata": {},
   "outputs": [],
   "source": [
    "df_infavor = df_infavor.sample(n=len(df_neutral))\n",
    "df_against = df_against.sample(n=len(df_neutral))"
   ]
  },
  {
   "cell_type": "code",
   "execution_count": 170,
   "id": "dd616925",
   "metadata": {},
   "outputs": [],
   "source": [
    "df_finetuning = pd.concat([df_infavor,df_against,df_neutral])[['tweet','label_majority']]"
   ]
  },
  {
   "cell_type": "code",
   "execution_count": 171,
   "id": "0c0cd8ca",
   "metadata": {},
   "outputs": [],
   "source": [
    "list_tweets = list(df_finetuning['tweet'])\n",
    "list_labels = list(df_finetuning['label_majority'])"
   ]
  },
  {
   "cell_type": "code",
   "execution_count": 172,
   "id": "d5c21c58",
   "metadata": {},
   "outputs": [],
   "source": [
    "le = LabelEncoder()\n",
    "y = le.fit_transform(list_labels)"
   ]
  },
  {
   "cell_type": "code",
   "execution_count": 173,
   "id": "2dd5f914",
   "metadata": {},
   "outputs": [],
   "source": [
    "list_tweets_tokenized = [tokenizer(tweet).input_ids[:tokenizer.model_max_length] for tweet in list_tweets]"
   ]
  },
  {
   "cell_type": "code",
   "execution_count": 174,
   "id": "c7cd9b7d",
   "metadata": {},
   "outputs": [],
   "source": [
    "max_token_length = max(len(tweet) for tweet in list_tweets_tokenized)\n",
    "pad_token_id = tokenizer.eos_token_id\n",
    "X = [ tweet_tokenized + [pad_token_id]*(max_token_length-len(tweet_tokenized)) for tweet_tokenized in list_tweets_tokenized ]"
   ]
  },
  {
   "cell_type": "markdown",
   "id": "8c021ddf",
   "metadata": {},
   "source": [
    "## splitting training and testing set"
   ]
  },
  {
   "cell_type": "code",
   "execution_count": 175,
   "id": "87bffcf1",
   "metadata": {},
   "outputs": [],
   "source": [
    "def split_data(feature_arr, label_arr, train_size):\n",
    "  X_train, X_test, y_train, y_test = train_test_split(feature_arr,label_arr,train_size=train_size,random_state=42,shuffle=True)\n",
    "  return X_train,X_test, y_train, y_test"
   ]
  },
  {
   "cell_type": "code",
   "execution_count": 176,
   "id": "42334ee9",
   "metadata": {},
   "outputs": [],
   "source": [
    "train_size = 0.8\n",
    "X_train, X_test, y_train, y_test = split_data(X,y,train_size)"
   ]
  },
  {
   "cell_type": "markdown",
   "id": "03b98d99",
   "metadata": {},
   "source": [
    "## Loading the final tensor dataset "
   ]
  },
  {
   "cell_type": "code",
   "execution_count": null,
   "id": "5d4fe77d",
   "metadata": {},
   "outputs": [],
   "source": [
    "X_train = torch.tensor(X_train)\n",
    "y_train = torch.tensor(y_train)\n",
    "# X_test = torch.tensor(X_test)\n",
    "# y_test = torch.tensor(y_test)"
   ]
  },
  {
   "cell_type": "code",
   "execution_count": null,
   "id": "4060882a",
   "metadata": {},
   "outputs": [],
   "source": [
    "train_dataset = TensorDataset(X_train,y_train)\n",
    "train_loader = DataLoader(train_dataset, batch_size=8,shuffle=True)\n",
    "# test_dataset = TensorDataset(X_test,y_test)\n",
    "# test_loader = DataLoader(test_dataset, batch_size=8,shuffle=True)"
   ]
  },
  {
   "cell_type": "markdown",
   "id": "a2a8af20",
   "metadata": {},
   "source": [
    "## Loading the model, attaching classification head and replacing linear with LORA and linear"
   ]
  },
  {
   "cell_type": "code",
   "execution_count": 112,
   "id": "49e1c2ea",
   "metadata": {},
   "outputs": [
    {
     "name": "stderr",
     "output_type": "stream",
     "text": [
      "/Users/adityagoyal/miniconda3/envs/sp-env/lib/python3.10/site-packages/accelerate/utils/modeling.py:1614: UserWarning: The following device_map keys do not match any submodules in the model: ['decoder.embed_tokens']\n",
      "  warnings.warn(\n",
      "Some parameters are on the meta device because they were offloaded to the disk.\n"
     ]
    }
   ],
   "source": [
    "model = T5ForConditionalGeneration.from_pretrained(\"google/flan-t5-large\", device_map=\"auto\")\n",
    "num_classes = 3"
   ]
  },
  {
   "cell_type": "code",
   "execution_count": 113,
   "id": "2140c635",
   "metadata": {},
   "outputs": [],
   "source": [
    "import math\n",
    "\n",
    "class LoRALayer(torch.nn.Module):\n",
    "    def __init__(self, in_dim, out_dim, rank, alpha):\n",
    "        super().__init__()\n",
    "        self.A = torch.nn.Parameter(torch.empty(in_dim, rank))\n",
    "        torch.nn.init.kaiming_uniform_(self.A, a=math.sqrt(5))  # similar to standard weight initialization\n",
    "        self.B = torch.nn.Parameter(torch.zeros(rank, out_dim))\n",
    "        self.alpha = alpha\n",
    "\n",
    "    def forward(self, x):\n",
    "        x = self.alpha * (x @ self.A @ self.B)\n",
    "        return x"
   ]
  },
  {
   "cell_type": "code",
   "execution_count": 114,
   "id": "808d426b",
   "metadata": {},
   "outputs": [],
   "source": [
    "class LinearWithLoRA(torch.nn.Module):\n",
    "    def __init__(self, linear, rank, alpha):\n",
    "        super().__init__()\n",
    "        self.linear = linear\n",
    "        self.lora = LoRALayer(\n",
    "            linear.in_features, linear.out_features, rank, alpha\n",
    "        )\n",
    "\n",
    "    def forward(self, x):\n",
    "        return self.linear(x) + self.lora(x)"
   ]
  },
  {
   "cell_type": "code",
   "execution_count": 115,
   "id": "add5b261",
   "metadata": {},
   "outputs": [],
   "source": [
    "def replace_linear_with_lora(model, rank, alpha):\n",
    "    for name, module in model.named_children():\n",
    "        if isinstance(module, torch.nn.Linear):\n",
    "            # Replace the Linear layer with LinearWithLoRA\n",
    "            setattr(model, name, LinearWithLoRA(module, rank, alpha))\n",
    "        else:\n",
    "            # Recursively apply the same function to child modules\n",
    "            replace_linear_with_lora(module, rank, alpha)"
   ]
  },
  {
   "cell_type": "code",
   "execution_count": 116,
   "id": "ec155369",
   "metadata": {},
   "outputs": [
    {
     "name": "stdout",
     "output_type": "stream",
     "text": [
      "Total trainable parameters before: 783,150,080\n",
      "Total trainable parameters after: 0\n"
     ]
    }
   ],
   "source": [
    "\n",
    "total_params = sum(p.numel() for p in model.parameters() if p.requires_grad)\n",
    "print(f\"Total trainable parameters before: {total_params:,}\")\n",
    "\n",
    "for param in model.parameters():\n",
    "    param.requires_grad = False\n",
    "\n",
    "total_params = sum(p.numel() for p in model.parameters() if p.requires_grad)\n",
    "print(f\"Total trainable parameters after: {total_params:,}\")"
   ]
  },
  {
   "cell_type": "code",
   "execution_count": 117,
   "id": "7750d857",
   "metadata": {},
   "outputs": [],
   "source": [
    "model.out_head = torch.nn.Linear(in_features=1024, out_features=num_classes)\n",
    "# trainable by default"
   ]
  },
  {
   "cell_type": "code",
   "execution_count": 118,
   "id": "3851125d",
   "metadata": {},
   "outputs": [
    {
     "name": "stdout",
     "output_type": "stream",
     "text": [
      "Total trainable LoRA parameters: 18,834,483\n"
     ]
    }
   ],
   "source": [
    "replace_linear_with_lora(model, rank=16, alpha=16)\n",
    "total_params = sum(p.numel() for p in model.parameters() if p.requires_grad)\n",
    "print(f\"Total trainable LoRA parameters: {total_params:,}\")"
   ]
  },
  {
   "cell_type": "code",
   "execution_count": null,
   "id": "e7d43a13",
   "metadata": {},
   "outputs": [],
   "source": [
    "device = torch.device(\"cuda\" if torch.cuda.is_available() else \"cpu\")\n",
    "model.to(device)"
   ]
  },
  {
   "cell_type": "markdown",
   "id": "e425158d",
   "metadata": {},
   "source": [
    "# Finetuning loop"
   ]
  },
  {
   "cell_type": "code",
   "execution_count": null,
   "id": "6fd2dbdc",
   "metadata": {},
   "outputs": [],
   "source": [
    "optimizer= torch.optim.Adam(model.parameters(), lr=0.0001)\n",
    "loss_fn = torch.nn.CrossEntropyLoss\n",
    "no_of_epochs = 2\n",
    "\n",
    "for epoch in range(no_of_epochs):\n",
    "    model.train() \n",
    "    for features,labels in train_loader:\n",
    "        optimizer.zero_grad()\n",
    "        outputs = model(features)\n",
    "        logits = outputs[:, -1, :]\n",
    "        loss = loss_fn(logits,labels)\n",
    "        loss.backward()\n",
    "        optimizer.step()\n",
    "\n",
    "    model.eval()\n",
    "    with torch.no_grad():\n"
   ]
  },
  {
   "cell_type": "markdown",
   "id": "bb604a6e",
   "metadata": {},
   "source": [
    "## Inference"
   ]
  },
  {
   "cell_type": "code",
   "execution_count": 189,
   "id": "cdc95108",
   "metadata": {},
   "outputs": [],
   "source": [
    "def generate_category(tweet,max_tokens,mapper):\n",
    "  input_ids = tokenizer(tweet, return_tensors=\"pt\").input_ids[:max_tokens].to(\"cuda\")\n",
    "  label_output = model.generate(input_ids)\n",
    "  label = mapper[label_output]\n",
    "  return label "
   ]
  },
  {
   "cell_type": "markdown",
   "id": "352b5691",
   "metadata": {},
   "source": [
    "## Saving the model files"
   ]
  },
  {
   "cell_type": "code",
   "execution_count": null,
   "id": "287a2d87",
   "metadata": {},
   "outputs": [],
   "source": [
    "torch.save(model.state_dict(), 'model_weights.pth')\n",
    "torch.save(model, 'model.pth')"
   ]
  },
  {
   "cell_type": "markdown",
   "id": "11fff800",
   "metadata": {},
   "source": [
    "## Inference to save the predicted labels in the csv"
   ]
  },
  {
   "cell_type": "code",
   "execution_count": null,
   "id": "ddf8f47c",
   "metadata": {},
   "outputs": [],
   "source": [
    "# freeze the weights\n",
    "# replace the final layer with a classification layer\n",
    "# intialize lora layers and dont freeze their weights (which is by default)\n",
    "# model.train()\n",
    "# do the typical training loop with optimizer.step, optimizer.zero_grad, loss.backward()"
   ]
  },
  {
   "cell_type": "code",
   "execution_count": null,
   "id": "ea98d018",
   "metadata": {},
   "outputs": [],
   "source": [
    "# training loop\n",
    "\n",
    "# set to training\n",
    "# initialise optimzier \n",
    "# no of epochs \n",
    "# define loss function \n",
    "\n",
    "# in each iteration\n",
    "# optimizer.zero_grad()\n",
    "# forward pass\n",
    "# loss.backward \n",
    "# optimizer.step \n",
    "\n",
    "# set to evaluation\n",
    "# evaluate on test data"
   ]
  },
  {
   "cell_type": "code",
   "execution_count": 4,
   "id": "50c05e27",
   "metadata": {},
   "outputs": [],
   "source": [
    "# Learnings: \n",
    "\n",
    "# model.eval()\n",
    "# \t• Disables dropout and sets batch norm to inference mode.\n",
    "# \t• Does NOT disable gradient tracking.\n",
    "\n",
    "# torch.no_grad()\n",
    "# \tDisables gradient tracking (no .grad, saves memory, speeds up inference).\n",
    "\n",
    "# model.train()\n",
    "# • enables dropout and sets batch norm to inference mode.\n",
    "\n",
    "# optimizer.zero_grad()\n",
    "# sets all gradients set now to 0 \n"
   ]
  },
  {
   "cell_type": "code",
   "execution_count": null,
   "id": "71dd15f4",
   "metadata": {},
   "outputs": [],
   "source": [
    "# make it into OOPS strcuture\n",
    "\n",
    "# do we need a validation set and why? What are the different hyperparameters...epochs, batch size  actually its rank and alpha for lora\n",
    "# the validation set in the code is actually a test set "
   ]
  },
  {
   "cell_type": "code",
   "execution_count": 190,
   "id": "1de6b3a9",
   "metadata": {},
   "outputs": [],
   "source": [
    "# hyperpapramters - learning rate, weight decay\n",
    "# model structure - rank, alpha "
   ]
  }
 ],
 "metadata": {
  "kernelspec": {
   "display_name": "sp-env",
   "language": "python",
   "name": "python3"
  },
  "language_info": {
   "codemirror_mode": {
    "name": "ipython",
    "version": 3
   },
   "file_extension": ".py",
   "mimetype": "text/x-python",
   "name": "python",
   "nbconvert_exporter": "python",
   "pygments_lexer": "ipython3",
   "version": "3.10.18"
  }
 },
 "nbformat": 4,
 "nbformat_minor": 5
}
