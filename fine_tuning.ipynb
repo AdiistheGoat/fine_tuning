{
 "cells": [
  {
   "cell_type": "markdown",
   "id": "b7ccd345",
   "metadata": {},
   "source": [
    "## Importing libraries and tokenizer"
   ]
  },
  {
   "cell_type": "code",
   "execution_count": null,
   "id": "88de7004",
   "metadata": {},
   "outputs": [
    {
     "name": "stderr",
     "output_type": "stream",
     "text": [
      "/Users/adityagoyal/miniconda3/envs/sp-env/lib/python3.10/site-packages/tqdm/auto.py:21: TqdmWarning: IProgress not found. Please update jupyter and ipywidgets. See https://ipywidgets.readthedocs.io/en/stable/user_install.html\n",
      "  from .autonotebook import tqdm as notebook_tqdm\n"
     ]
    }
   ],
   "source": [
    "from transformers import T5Tokenizer, T5ForConditionalGeneration, T5ForSequenceClassification\n",
    "import pandas as pd\n",
    "from sklearn.model_selection import train_test_split\n",
    "from sklearn.preprocessing import LabelEncoder"
   ]
  },
  {
   "cell_type": "code",
   "execution_count": null,
   "id": "c59d659f",
   "metadata": {},
   "outputs": [],
   "source": [
    "import torch\n",
    "from torch.utils.data import DataLoader, TensorDataset\n",
    "import gc"
   ]
  },
  {
   "cell_type": "code",
   "execution_count": null,
   "id": "1b760218",
   "metadata": {},
   "outputs": [
    {
     "name": "stderr",
     "output_type": "stream",
     "text": [
      "You are using the default legacy behaviour of the <class 'transformers.models.t5.tokenization_t5.T5Tokenizer'>. This is expected, and simply means that the `legacy` (previous) behavior will be used so nothing changes for you. If you want to use the new behaviour, set `legacy=False`. This should only be set if you understand what it means, and thoroughly read the reason why this was added as explained in https://github.com/huggingface/transformers/pull/24565\n"
     ]
    }
   ],
   "source": [
    "# Load model directly\n",
    "tokenizer = T5Tokenizer.from_pretrained(\"google/flan-t5-large\")"
   ]
  },
  {
   "cell_type": "code",
   "execution_count": 4,
   "id": "384fca9d",
   "metadata": {},
   "outputs": [],
   "source": [
    "if(torch.cuda.is_available()):\n",
    "    device = \"gpu\"  \n",
    "elif(torch.backends.mps.is_available()):\n",
    "    device = \"mps\"\n",
    "else:\n",
    "    device = \"cpu\"\n",
    "device = torch.device(device=device)"
   ]
  },
  {
   "cell_type": "markdown",
   "id": "5666177b",
   "metadata": {},
   "source": [
    "## Cleaning Dataset and EDA"
   ]
  },
  {
   "cell_type": "code",
   "execution_count": null,
   "id": "83142cf2",
   "metadata": {},
   "outputs": [],
   "source": [
    "# class: prepare dataset\n",
    "# method: clean_dataset (involving mkaing data balanced, removing NaNs)\n",
    "# method: preparing tensors from the cleaned dataset\n",
    "# method: splitting the data\n",
    "# method: preparing the data loaders\n",
    "\n",
    "class prepare_data:\n",
    "\n",
    "    def __init__(tokenizer,train_size,path):\n",
    "        self.tokenizer = tokenizer\n",
    "        self.train_size =  train_size\n",
    "        self.path = path\n",
    "\n",
    "    def clean_dataset(self):\n",
    "        df = pd.read_csv(self.path)\n",
    "        df_infavor = df[df['label_majority'] == 'in-favor']\n",
    "        df_against = df[df['label_majority'] == 'against']\n",
    "        df_neutral = df[df['label_majority'] == 'neutral-or-unclear']\n",
    "        df_infavor = df_infavor.sample(n=len(df_neutral))\n",
    "        df_against = df_against.sample(n=len(df_neutral))\n",
    "        df_finetuning = pd.concat([df_infavor,df_against,df_neutral])[['tweet','label_majority']]\n",
    "        return df_finetuning\n",
    "    \n",
    "    def prepare_tensors(self,df):\n",
    "        list_tweets = list(df_finetuning['tweet'])\n",
    "        list_labels = list(df_finetuning['label_majority'])\n",
    "\n",
    "        for index in range(len(list_tweets)):\n",
    "            list_tweets[index] =  f\"\"\" What is the stance of the following tweet with respect to COVID-19 vaccine?\n",
    "                                        Here is the tweet. \"{list_tweets[index]}\"\n",
    "                                        Please use exactly one word from the following 3 categories to label it: \"in-favor\", \"against\", \"neutral-or-unclear\" \"\"\"\n",
    "        \n",
    "        list_tweets_tokenized = [tokenizer(tweet).input_ids[:self.tokenizer.max_token_length] for tweet in list_tweets]\n",
    "\n",
    "        max_length = max(len(tweet) for tweet in list_tweets_tokenized)\n",
    "        pad_token_id = tokenizer.eos_token_id\n",
    "        X = [ tweet_tokenized + [pad_token_id]*(max_length-len(tweet_tokenized)) for tweet_tokenized in list_tweets_tokenized]\n",
    "\n",
    "        unique_values = list(set(list_labels))\n",
    "        dic = {}\n",
    "        max_len = 0\n",
    "        for val in unique_values:\n",
    "            dic[val] = tokenizer(val,return_tensors=\"pt\").input_ids.squeeze().tolist()\n",
    "            max_len = max(max_len,len(dic[val]))\n",
    "\n",
    "        for val in dic:\n",
    "            dic[val] = dic[val] + [pad_token_id]*(max_len-len(dic[val]))\n",
    "\n",
    "        y = [dic[label] for label in list_labels]\n",
    "\n",
    "        return X,y,dic\n",
    "\n",
    "\n",
    "    def split_data(feature_arr, label_arr, train_size):\n",
    "        X_train, X_test, y_train, y_test = train_test_split(feature_arr,label_arr,train_size=train_size,random_state=42,shuffle=True)\n",
    "        return X_train,X_test, y_train, y_test\n",
    "    \n",
    "    def load_tensors(X_train,y_train,X_test,y_test):\n",
    "        X_train = torch.tensor(X_train)\n",
    "        y_train = torch.tensor(y_train)\n",
    "        X_test = torch.tensor(X_test)\n",
    "        y_test = torch.tensor(y_test)\n",
    "        return X_train,y_train,X_test,y_test\n",
    "\n",
    "    def load_loader(X,y,batch_size,shuffle=True):\n",
    "        dataset = TensorDataset(X,y)\n",
    "        loader = DataLoader(train_dataset, batch_size=batch_size,shuffle=shuffle)\n",
    "        return loader\n"
   ]
  },
  {
   "cell_type": "code",
   "execution_count": 5,
   "id": "f8bc0f67",
   "metadata": {},
   "outputs": [],
   "source": [
    "df = pd.read_csv('Q2_20230202_majority 1.csv')"
   ]
  },
  {
   "cell_type": "code",
   "execution_count": 6,
   "id": "bafab6e8",
   "metadata": {},
   "outputs": [
    {
     "data": {
      "text/plain": [
       "label_majority\n",
       "in-favor              2907\n",
       "against               1804\n",
       "neutral-or-unclear    1040\n",
       "Name: count, dtype: int64"
      ]
     },
     "execution_count": 6,
     "metadata": {},
     "output_type": "execute_result"
    }
   ],
   "source": [
    "df['label_majority'].value_counts()"
   ]
  },
  {
   "cell_type": "code",
   "execution_count": null,
   "id": "1e1cca37",
   "metadata": {},
   "outputs": [],
   "source": [
    "df_infavor = df[df['label_majority'] == 'in-favor']\n",
    "df_against = df[df['label_majority'] == 'against']\n",
    "df_neutral = df[df['label_majority'] == 'neutral-or-unclear']"
   ]
  },
  {
   "cell_type": "code",
   "execution_count": 8,
   "id": "8f058748",
   "metadata": {},
   "outputs": [],
   "source": [
    "df_infavor = df_infavor.sample(n=len(df_neutral))\n",
    "df_against = df_against.sample(n=len(df_neutral))"
   ]
  },
  {
   "cell_type": "code",
   "execution_count": 9,
   "id": "dd616925",
   "metadata": {},
   "outputs": [],
   "source": [
    "df_finetuning = pd.concat([df_infavor,df_against,df_neutral])[['tweet','label_majority']]"
   ]
  },
  {
   "cell_type": "code",
   "execution_count": 10,
   "id": "0c0cd8ca",
   "metadata": {},
   "outputs": [],
   "source": [
    "list_tweets = list(df_finetuning['tweet'])\n",
    "list_labels = list(df_finetuning['label_majority'])"
   ]
  },
  {
   "cell_type": "code",
   "execution_count": 11,
   "id": "d5c21c58",
   "metadata": {},
   "outputs": [],
   "source": [
    "le = LabelEncoder()\n",
    "y = le.fit_transform(list_labels)\n",
    "y = [[i] for i in y]"
   ]
  },
  {
   "cell_type": "code",
   "execution_count": 12,
   "id": "2dd5f914",
   "metadata": {},
   "outputs": [],
   "source": [
    "max_token_length = tokenizer.model_max_length\n",
    "list_tweets_tokenized = [tokenizer(tweet).input_ids[:max_token_length] for tweet in list_tweets]"
   ]
  },
  {
   "cell_type": "code",
   "execution_count": 13,
   "id": "c7cd9b7d",
   "metadata": {},
   "outputs": [],
   "source": [
    "max_token_length = max(len(tweet) for tweet in list_tweets_tokenized)\n",
    "pad_token_id = tokenizer.eos_token_id\n",
    "X = [ tweet_tokenized + [pad_token_id]*(max_token_length-len(tweet_tokenized)) for tweet_tokenized in list_tweets_tokenized ]"
   ]
  },
  {
   "cell_type": "markdown",
   "id": "8c021ddf",
   "metadata": {},
   "source": [
    "## splitting training and testing set"
   ]
  },
  {
   "cell_type": "code",
   "execution_count": 14,
   "id": "87bffcf1",
   "metadata": {},
   "outputs": [],
   "source": [
    "def split_data(feature_arr, label_arr, train_size):\n",
    "  X_train, X_test, y_train, y_test = train_test_split(feature_arr,label_arr,train_size=train_size,random_state=42,shuffle=True)\n",
    "  return X_train,X_test, y_train, y_test"
   ]
  },
  {
   "cell_type": "code",
   "execution_count": 15,
   "id": "42334ee9",
   "metadata": {},
   "outputs": [],
   "source": [
    "train_size = 0.8\n",
    "X_train, X_test, y_train, y_test = split_data(X,y,train_size)"
   ]
  },
  {
   "cell_type": "markdown",
   "id": "03b98d99",
   "metadata": {},
   "source": [
    "## Loading the final tensor dataset "
   ]
  },
  {
   "cell_type": "code",
   "execution_count": 16,
   "id": "5d4fe77d",
   "metadata": {},
   "outputs": [],
   "source": [
    "X_train = torch.tensor(X_train)\n",
    "y_train = torch.tensor(y_train)\n",
    "X_test = torch.tensor(X_test)\n",
    "y_test = torch.tensor(y_test)"
   ]
  },
  {
   "cell_type": "code",
   "execution_count": 17,
   "id": "4060882a",
   "metadata": {},
   "outputs": [],
   "source": [
    "train_dataset = TensorDataset(X_train,y_train)\n",
    "train_loader = DataLoader(train_dataset, batch_size=8,shuffle=True)\n",
    "# test_dataset = TensorDataset(X_test,y_test)\n",
    "# test_loader = DataLoader(test_dataset, batch_size=8,shuffle=True)"
   ]
  },
  {
   "cell_type": "markdown",
   "id": "a2a8af20",
   "metadata": {},
   "source": [
    "## Loading the model, attaching classification head and replacing linear with LORA and linear"
   ]
  },
  {
   "cell_type": "code",
   "execution_count": 18,
   "id": "49e1c2ea",
   "metadata": {},
   "outputs": [],
   "source": [
    "model = T5ForConditionalGeneration.from_pretrained(\"google/flan-t5-large\", device_map=\"auto\")\n",
    "num_classes = 3"
   ]
  },
  {
   "cell_type": "code",
   "execution_count": 19,
   "id": "2140c635",
   "metadata": {},
   "outputs": [],
   "source": [
    "import math\n",
    "\n",
    "class LoRALayer(torch.nn.Module):\n",
    "    def __init__(self, in_dim, out_dim, rank, alpha):\n",
    "        super().__init__()\n",
    "        self.A = torch.nn.Parameter(torch.zeros(in_dim, rank))\n",
    "        torch.nn.init.kaiming_uniform_(self.A, a=math.sqrt(5))  # similar to standard weight initialization\n",
    "        self.B = torch.nn.Parameter(torch.zeros(rank, out_dim))\n",
    "        self.alpha = alpha\n",
    "\n",
    "    def forward(self, x):\n",
    "        x = self.alpha * (x @ self.A @ self.B)\n",
    "        return x\n",
    "    \n",
    "    def parameters(self):\n",
    "        return self.alpha * (self.A @ self.B)\n"
   ]
  },
  {
   "cell_type": "code",
   "execution_count": 20,
   "id": "808d426b",
   "metadata": {},
   "outputs": [],
   "source": [
    "class LinearWithLoRA(torch.nn.Module):\n",
    "    def __init__(self, linear, rank, alpha):\n",
    "        super().__init__()\n",
    "        self.linear = linear\n",
    "        self.lora = LoRALayer(\n",
    "            linear.in_features, linear.out_features, rank, alpha\n",
    "        )\n",
    "        self.weight = self.lora.parameters()\n",
    "\n",
    "    def forward(self, x):\n",
    "        return self.linear(x) + self.lora(x)"
   ]
  },
  {
   "cell_type": "code",
   "execution_count": 21,
   "id": "add5b261",
   "metadata": {},
   "outputs": [],
   "source": [
    "def replace_linear_with_lora(model, rank, alpha):\n",
    "    for name, module in model.named_children():\n",
    "        if isinstance(module, torch.nn.Linear):\n",
    "            # Replace the Linear layer with LinearWithLoRA\n",
    "            setattr(model, name, LinearWithLoRA(module, rank, alpha))\n",
    "        else:\n",
    "            # Recursively apply the same function to child modules\n",
    "            replace_linear_with_lora(module, rank, alpha)"
   ]
  },
  {
   "cell_type": "code",
   "execution_count": 22,
   "id": "ec155369",
   "metadata": {},
   "outputs": [
    {
     "name": "stdout",
     "output_type": "stream",
     "text": [
      "Total trainable parameters before: 783,150,080\n",
      "Total trainable parameters after: 0\n"
     ]
    }
   ],
   "source": [
    "\n",
    "total_params = sum(p.numel() for p in model.parameters() if p.requires_grad)\n",
    "print(f\"Total trainable parameters before: {total_params:,}\")\n",
    "\n",
    "for param in model.parameters():\n",
    "    param.requires_grad = False\n",
    "\n",
    "total_params = sum(p.numel() for p in model.parameters() if p.requires_grad)\n",
    "print(f\"Total trainable parameters after: {total_params:,}\")"
   ]
  },
  {
   "cell_type": "code",
   "execution_count": 23,
   "id": "3851125d",
   "metadata": {},
   "outputs": [],
   "source": [
    "replace_linear_with_lora(model, rank=16, alpha=16)"
   ]
  },
  {
   "cell_type": "code",
   "execution_count": null,
   "id": "83fd58ce",
   "metadata": {},
   "outputs": [
    {
     "name": "stdout",
     "output_type": "stream",
     "text": [
      "Total trainable LoRA parameters: 18,287,616\n"
     ]
    }
   ],
   "source": [
    "# model.lm_head = torch.nn.Linear(in_features=1024, out_features=num_classes,bias=False)\n",
    "total_params = sum(p.numel() for p in model.parameters() if p.requires_grad)\n",
    "print(f\"Total trainable LoRA parameters: {total_params:,}\")"
   ]
  },
  {
   "cell_type": "code",
   "execution_count": 25,
   "id": "6a9ccc57",
   "metadata": {},
   "outputs": [],
   "source": [
    "model = model.to(device)"
   ]
  },
  {
   "cell_type": "code",
   "execution_count": 26,
   "id": "8b34ed9e",
   "metadata": {},
   "outputs": [
    {
     "data": {
      "text/plain": [
       "T5ForConditionalGeneration(\n",
       "  (shared): Embedding(32128, 1024)\n",
       "  (encoder): T5Stack(\n",
       "    (embed_tokens): Embedding(32128, 1024)\n",
       "    (block): ModuleList(\n",
       "      (0): T5Block(\n",
       "        (layer): ModuleList(\n",
       "          (0): T5LayerSelfAttention(\n",
       "            (SelfAttention): T5Attention(\n",
       "              (q): LinearWithLoRA(\n",
       "                (linear): Linear(in_features=1024, out_features=1024, bias=False)\n",
       "                (lora): LoRALayer()\n",
       "              )\n",
       "              (k): LinearWithLoRA(\n",
       "                (linear): Linear(in_features=1024, out_features=1024, bias=False)\n",
       "                (lora): LoRALayer()\n",
       "              )\n",
       "              (v): LinearWithLoRA(\n",
       "                (linear): Linear(in_features=1024, out_features=1024, bias=False)\n",
       "                (lora): LoRALayer()\n",
       "              )\n",
       "              (o): LinearWithLoRA(\n",
       "                (linear): Linear(in_features=1024, out_features=1024, bias=False)\n",
       "                (lora): LoRALayer()\n",
       "              )\n",
       "              (relative_attention_bias): Embedding(32, 16)\n",
       "            )\n",
       "            (layer_norm): T5LayerNorm()\n",
       "            (dropout): Dropout(p=0.1, inplace=False)\n",
       "          )\n",
       "          (1): T5LayerFF(\n",
       "            (DenseReluDense): T5DenseGatedActDense(\n",
       "              (wi_0): LinearWithLoRA(\n",
       "                (linear): Linear(in_features=1024, out_features=2816, bias=False)\n",
       "                (lora): LoRALayer()\n",
       "              )\n",
       "              (wi_1): LinearWithLoRA(\n",
       "                (linear): Linear(in_features=1024, out_features=2816, bias=False)\n",
       "                (lora): LoRALayer()\n",
       "              )\n",
       "              (wo): LinearWithLoRA(\n",
       "                (linear): Linear(in_features=2816, out_features=1024, bias=False)\n",
       "                (lora): LoRALayer()\n",
       "              )\n",
       "              (dropout): Dropout(p=0.1, inplace=False)\n",
       "              (act): NewGELUActivation()\n",
       "            )\n",
       "            (layer_norm): T5LayerNorm()\n",
       "            (dropout): Dropout(p=0.1, inplace=False)\n",
       "          )\n",
       "        )\n",
       "      )\n",
       "      (1-23): 23 x T5Block(\n",
       "        (layer): ModuleList(\n",
       "          (0): T5LayerSelfAttention(\n",
       "            (SelfAttention): T5Attention(\n",
       "              (q): LinearWithLoRA(\n",
       "                (linear): Linear(in_features=1024, out_features=1024, bias=False)\n",
       "                (lora): LoRALayer()\n",
       "              )\n",
       "              (k): LinearWithLoRA(\n",
       "                (linear): Linear(in_features=1024, out_features=1024, bias=False)\n",
       "                (lora): LoRALayer()\n",
       "              )\n",
       "              (v): LinearWithLoRA(\n",
       "                (linear): Linear(in_features=1024, out_features=1024, bias=False)\n",
       "                (lora): LoRALayer()\n",
       "              )\n",
       "              (o): LinearWithLoRA(\n",
       "                (linear): Linear(in_features=1024, out_features=1024, bias=False)\n",
       "                (lora): LoRALayer()\n",
       "              )\n",
       "            )\n",
       "            (layer_norm): T5LayerNorm()\n",
       "            (dropout): Dropout(p=0.1, inplace=False)\n",
       "          )\n",
       "          (1): T5LayerFF(\n",
       "            (DenseReluDense): T5DenseGatedActDense(\n",
       "              (wi_0): LinearWithLoRA(\n",
       "                (linear): Linear(in_features=1024, out_features=2816, bias=False)\n",
       "                (lora): LoRALayer()\n",
       "              )\n",
       "              (wi_1): LinearWithLoRA(\n",
       "                (linear): Linear(in_features=1024, out_features=2816, bias=False)\n",
       "                (lora): LoRALayer()\n",
       "              )\n",
       "              (wo): LinearWithLoRA(\n",
       "                (linear): Linear(in_features=2816, out_features=1024, bias=False)\n",
       "                (lora): LoRALayer()\n",
       "              )\n",
       "              (dropout): Dropout(p=0.1, inplace=False)\n",
       "              (act): NewGELUActivation()\n",
       "            )\n",
       "            (layer_norm): T5LayerNorm()\n",
       "            (dropout): Dropout(p=0.1, inplace=False)\n",
       "          )\n",
       "        )\n",
       "      )\n",
       "    )\n",
       "    (final_layer_norm): T5LayerNorm()\n",
       "    (dropout): Dropout(p=0.1, inplace=False)\n",
       "  )\n",
       "  (decoder): T5Stack(\n",
       "    (embed_tokens): Embedding(32128, 1024)\n",
       "    (block): ModuleList(\n",
       "      (0): T5Block(\n",
       "        (layer): ModuleList(\n",
       "          (0): T5LayerSelfAttention(\n",
       "            (SelfAttention): T5Attention(\n",
       "              (q): LinearWithLoRA(\n",
       "                (linear): Linear(in_features=1024, out_features=1024, bias=False)\n",
       "                (lora): LoRALayer()\n",
       "              )\n",
       "              (k): LinearWithLoRA(\n",
       "                (linear): Linear(in_features=1024, out_features=1024, bias=False)\n",
       "                (lora): LoRALayer()\n",
       "              )\n",
       "              (v): LinearWithLoRA(\n",
       "                (linear): Linear(in_features=1024, out_features=1024, bias=False)\n",
       "                (lora): LoRALayer()\n",
       "              )\n",
       "              (o): LinearWithLoRA(\n",
       "                (linear): Linear(in_features=1024, out_features=1024, bias=False)\n",
       "                (lora): LoRALayer()\n",
       "              )\n",
       "              (relative_attention_bias): Embedding(32, 16)\n",
       "            )\n",
       "            (layer_norm): T5LayerNorm()\n",
       "            (dropout): Dropout(p=0.1, inplace=False)\n",
       "          )\n",
       "          (1): T5LayerCrossAttention(\n",
       "            (EncDecAttention): T5Attention(\n",
       "              (q): LinearWithLoRA(\n",
       "                (linear): Linear(in_features=1024, out_features=1024, bias=False)\n",
       "                (lora): LoRALayer()\n",
       "              )\n",
       "              (k): LinearWithLoRA(\n",
       "                (linear): Linear(in_features=1024, out_features=1024, bias=False)\n",
       "                (lora): LoRALayer()\n",
       "              )\n",
       "              (v): LinearWithLoRA(\n",
       "                (linear): Linear(in_features=1024, out_features=1024, bias=False)\n",
       "                (lora): LoRALayer()\n",
       "              )\n",
       "              (o): LinearWithLoRA(\n",
       "                (linear): Linear(in_features=1024, out_features=1024, bias=False)\n",
       "                (lora): LoRALayer()\n",
       "              )\n",
       "            )\n",
       "            (layer_norm): T5LayerNorm()\n",
       "            (dropout): Dropout(p=0.1, inplace=False)\n",
       "          )\n",
       "          (2): T5LayerFF(\n",
       "            (DenseReluDense): T5DenseGatedActDense(\n",
       "              (wi_0): LinearWithLoRA(\n",
       "                (linear): Linear(in_features=1024, out_features=2816, bias=False)\n",
       "                (lora): LoRALayer()\n",
       "              )\n",
       "              (wi_1): LinearWithLoRA(\n",
       "                (linear): Linear(in_features=1024, out_features=2816, bias=False)\n",
       "                (lora): LoRALayer()\n",
       "              )\n",
       "              (wo): LinearWithLoRA(\n",
       "                (linear): Linear(in_features=2816, out_features=1024, bias=False)\n",
       "                (lora): LoRALayer()\n",
       "              )\n",
       "              (dropout): Dropout(p=0.1, inplace=False)\n",
       "              (act): NewGELUActivation()\n",
       "            )\n",
       "            (layer_norm): T5LayerNorm()\n",
       "            (dropout): Dropout(p=0.1, inplace=False)\n",
       "          )\n",
       "        )\n",
       "      )\n",
       "      (1-23): 23 x T5Block(\n",
       "        (layer): ModuleList(\n",
       "          (0): T5LayerSelfAttention(\n",
       "            (SelfAttention): T5Attention(\n",
       "              (q): LinearWithLoRA(\n",
       "                (linear): Linear(in_features=1024, out_features=1024, bias=False)\n",
       "                (lora): LoRALayer()\n",
       "              )\n",
       "              (k): LinearWithLoRA(\n",
       "                (linear): Linear(in_features=1024, out_features=1024, bias=False)\n",
       "                (lora): LoRALayer()\n",
       "              )\n",
       "              (v): LinearWithLoRA(\n",
       "                (linear): Linear(in_features=1024, out_features=1024, bias=False)\n",
       "                (lora): LoRALayer()\n",
       "              )\n",
       "              (o): LinearWithLoRA(\n",
       "                (linear): Linear(in_features=1024, out_features=1024, bias=False)\n",
       "                (lora): LoRALayer()\n",
       "              )\n",
       "            )\n",
       "            (layer_norm): T5LayerNorm()\n",
       "            (dropout): Dropout(p=0.1, inplace=False)\n",
       "          )\n",
       "          (1): T5LayerCrossAttention(\n",
       "            (EncDecAttention): T5Attention(\n",
       "              (q): LinearWithLoRA(\n",
       "                (linear): Linear(in_features=1024, out_features=1024, bias=False)\n",
       "                (lora): LoRALayer()\n",
       "              )\n",
       "              (k): LinearWithLoRA(\n",
       "                (linear): Linear(in_features=1024, out_features=1024, bias=False)\n",
       "                (lora): LoRALayer()\n",
       "              )\n",
       "              (v): LinearWithLoRA(\n",
       "                (linear): Linear(in_features=1024, out_features=1024, bias=False)\n",
       "                (lora): LoRALayer()\n",
       "              )\n",
       "              (o): LinearWithLoRA(\n",
       "                (linear): Linear(in_features=1024, out_features=1024, bias=False)\n",
       "                (lora): LoRALayer()\n",
       "              )\n",
       "            )\n",
       "            (layer_norm): T5LayerNorm()\n",
       "            (dropout): Dropout(p=0.1, inplace=False)\n",
       "          )\n",
       "          (2): T5LayerFF(\n",
       "            (DenseReluDense): T5DenseGatedActDense(\n",
       "              (wi_0): LinearWithLoRA(\n",
       "                (linear): Linear(in_features=1024, out_features=2816, bias=False)\n",
       "                (lora): LoRALayer()\n",
       "              )\n",
       "              (wi_1): LinearWithLoRA(\n",
       "                (linear): Linear(in_features=1024, out_features=2816, bias=False)\n",
       "                (lora): LoRALayer()\n",
       "              )\n",
       "              (wo): LinearWithLoRA(\n",
       "                (linear): Linear(in_features=2816, out_features=1024, bias=False)\n",
       "                (lora): LoRALayer()\n",
       "              )\n",
       "              (dropout): Dropout(p=0.1, inplace=False)\n",
       "              (act): NewGELUActivation()\n",
       "            )\n",
       "            (layer_norm): T5LayerNorm()\n",
       "            (dropout): Dropout(p=0.1, inplace=False)\n",
       "          )\n",
       "        )\n",
       "      )\n",
       "    )\n",
       "    (final_layer_norm): T5LayerNorm()\n",
       "    (dropout): Dropout(p=0.1, inplace=False)\n",
       "  )\n",
       "  (lm_head): Linear(in_features=1024, out_features=3, bias=False)\n",
       ")"
      ]
     },
     "execution_count": 26,
     "metadata": {},
     "output_type": "execute_result"
    }
   ],
   "source": [
    "model"
   ]
  },
  {
   "cell_type": "markdown",
   "id": "e425158d",
   "metadata": {},
   "source": [
    "# Finetuning loop"
   ]
  },
  {
   "cell_type": "code",
   "execution_count": null,
   "id": "95a380f8",
   "metadata": {},
   "outputs": [],
   "source": [
    "# class finetuning \n",
    "# method to finetune \n",
    "# haev loss, accuracy attributes , epochs(in arguments)etc\n",
    "\n",
    "class tuning_and_inference:\n",
    "\n",
    "    def __init__(optimizer,loss_fn,no_of_epochs,tokenizer)\n",
    "        self.optimizer = optimizer\n",
    "        self.loss_fn = loss_fn\n",
    "        self.no_of_epochs = no_of_epochs\n",
    "        self.tokenizer = tokenizer\n",
    "        \n",
    "    def fine_tune():\n",
    "        # labels can be a one dimensional tensor(N)\n",
    "        # output is N by 1\n",
    "        for epoch in range(no_of_epochs):\n",
    "            iteration_number = 0\n",
    "            for features,labels in train_loader:\n",
    "                model.train()\n",
    "                features = features.to(device)\n",
    "                labels = labels.to(device)\n",
    "                optimizer.zero_grad()\n",
    "                outputs = model(input_ids=features,labels=labels)\n",
    "                del features,labels\n",
    "                torch.cuda.empty_cache()\n",
    "            iteration_number += 1     \n",
    "\n",
    "    def generate_category(tweet,token_mapper):\n",
    "        input_ids = tokenizer(tweet, return_tensors=\"pt\").input_ids[:max_tokens].to(\"cpu\")\n",
    "        output_tokens = model.generate(input_ids)\n",
    "        predicted_label = tokenizer.decode(output_tokens[0][1:len(output_tokens[0])-1])\n",
    "        if(predicted_label not in token_mapper):\n",
    "            print(predicted_label)\n",
    "            return \"\"\n",
    "        return predicted_label \n",
    "    \n",
    "    def generate_predicted_labels(df)\n",
    "        label_preds = []\n",
    "        for index,row in df.iterrows():\n",
    "            prompt = f\"\"\" What is the stance of the following tweet with respect to COVID-19 vaccine?\n",
    "                        Here is the tweet. \"{row['tweet']}\"\n",
    "                        Please use exactly one word from the following 3 categories to label it: \n",
    "                        - \"in-favor\", \n",
    "                        - \"against\", \n",
    "                        - \"neutral-or-unclear\" \n",
    "                        Only output the **exact** category name and nothing else. \n",
    "                        \"\"\"\n",
    "            label_pred = generate_category(prompt,tokenizer.model_max_length,dic)\n",
    "            label_preds.append(label_pred)\n",
    "        return label_preds\n"
   ]
  },
  {
   "cell_type": "code",
   "execution_count": 28,
   "id": "41695c8d",
   "metadata": {},
   "outputs": [],
   "source": [
    "optimizer= torch.optim.Adam(model.parameters(), lr=0.0001)\n",
    "loss_fn = torch.nn.CrossEntropyLoss()\n",
    "no_of_epochs = 2"
   ]
  },
  {
   "cell_type": "markdown",
   "id": "bb604a6e",
   "metadata": {},
   "source": [
    "## Inference"
   ]
  },
  {
   "cell_type": "code",
   "execution_count": null,
   "id": "ed258811",
   "metadata": {},
   "outputs": [],
   "source": [
    "# class inference\n",
    "# method to do ifnerence from a list of inputs and return the output\n",
    "# method to evaluate accuracy between predicted and real"
   ]
  },
  {
   "cell_type": "code",
   "execution_count": 51,
   "id": "cdc95108",
   "metadata": {},
   "outputs": [],
   "source": [
    "def generate_category(tweet,max_tokens,mapper):\n",
    "  input_ids = tokenizer(tweet, return_tensors=\"pt\").input_ids[:max_tokens]\n",
    "  label_output = model(input_ids)\n",
    "  return mapper.inverse_transform(label_output)[0]"
   ]
  },
  {
   "cell_type": "code",
   "execution_count": null,
   "id": "1d1bd3a2",
   "metadata": {},
   "outputs": [],
   "source": [
    "label_preds = []\n",
    "for index,row in df.iterrows():\n",
    "    tweet = row['tweet']\n",
    "    label_pred = generate_category(tweet,tokenizer.model_max_length,le)\n",
    "    label_preds.append(label_preds)"
   ]
  },
  {
   "cell_type": "code",
   "execution_count": null,
   "id": "269d5c2a",
   "metadata": {},
   "outputs": [],
   "source": [
    "df[\"label_pred\"] = label_preds"
   ]
  },
  {
   "cell_type": "code",
   "execution_count": null,
   "id": "ced49b45",
   "metadata": {},
   "outputs": [],
   "source": [
    "df.to_csv('final_output.csv')"
   ]
  },
  {
   "cell_type": "markdown",
   "id": "352b5691",
   "metadata": {},
   "source": [
    "## Saving the model files"
   ]
  },
  {
   "cell_type": "code",
   "execution_count": null,
   "id": "287a2d87",
   "metadata": {},
   "outputs": [],
   "source": [
    "torch.save(model.state_dict(), 'model_weights.pth')\n",
    "torch.save(model, 'model.pth')"
   ]
  },
  {
   "cell_type": "code",
   "execution_count": null,
   "id": "ddf8f47c",
   "metadata": {},
   "outputs": [],
   "source": [
    "# freeze the weights\n",
    "# replace the final layer with a classification layer\n",
    "# intialize lora layers and dont freeze their weights (which is by default)\n",
    "# model.train()\n",
    "# do the typical training loop with optimizer.step, optimizer.zero_grad, loss.backward()"
   ]
  },
  {
   "cell_type": "code",
   "execution_count": null,
   "id": "ea98d018",
   "metadata": {},
   "outputs": [],
   "source": [
    "# training loop\n",
    "\n",
    "# set to training\n",
    "# initialise optimzier \n",
    "# no of epochs \n",
    "# define loss function \n",
    "\n",
    "# in each iteration\n",
    "# optimizer.zero_grad()\n",
    "# forward pass\n",
    "# loss.backward \n",
    "# optimizer.step \n",
    "\n",
    "# set to evaluation\n",
    "# evaluate on test data"
   ]
  },
  {
   "cell_type": "code",
   "execution_count": null,
   "id": "50c05e27",
   "metadata": {},
   "outputs": [],
   "source": [
    "# Learnings: \n",
    "\n",
    "# model.eval()\n",
    "# \t• Disables dropout and sets batch norm to inference mode.\n",
    "# \t• Does NOT disable gradient tracking.\n",
    "\n",
    "# torch.no_grad()\n",
    "# \tDisables gradient tracking (no .grad, saves memory, speeds up inference).\n",
    "\n",
    "# model.train()\n",
    "# • enables dropout and sets batch norm to inference mode.\n",
    "\n",
    "# optimizer.zero_grad()\n",
    "# sets all gradients set now to 0 \n",
    "\n",
    "# improtance of handlign hardware and removing intermediate tensors \n",
    "# importance of researhcing about the finetuning script before\n"
   ]
  },
  {
   "cell_type": "code",
   "execution_count": null,
   "id": "71dd15f4",
   "metadata": {},
   "outputs": [],
   "source": [
    "# make it into OOPS strcuture\n",
    "\n",
    "# do we need a validation set and why? What are the different hyperparameters...epochs, batch size  actually its rank and alpha for lora\n",
    "# the validation set in the code is actually a test set "
   ]
  },
  {
   "cell_type": "code",
   "execution_count": 190,
   "id": "1de6b3a9",
   "metadata": {},
   "outputs": [],
   "source": [
    "# hyperpapramters - learning rate, weight decay\n",
    "# model structure - rank, alpha "
   ]
  }
 ],
 "metadata": {
  "kernelspec": {
   "display_name": "sp-env",
   "language": "python",
   "name": "python3"
  },
  "language_info": {
   "codemirror_mode": {
    "name": "ipython",
    "version": 3
   },
   "file_extension": ".py",
   "mimetype": "text/x-python",
   "name": "python",
   "nbconvert_exporter": "python",
   "pygments_lexer": "ipython3",
   "version": "3.10.18"
  }
 },
 "nbformat": 4,
 "nbformat_minor": 5
}
