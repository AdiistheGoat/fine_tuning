{
 "cells": [
  {
   "cell_type": "markdown",
   "id": "b7ccd345",
   "metadata": {},
   "source": [
    "## Importing libraries "
   ]
  },
  {
   "cell_type": "code",
   "execution_count": null,
   "id": "88de7004",
   "metadata": {},
   "outputs": [],
   "source": [
    "from transformers import T5Tokenizer, T5ForConditionalGeneration\n",
    "import pandas as pd\n",
    "from sklearn.model_selection import train_test_split"
   ]
  },
  {
   "cell_type": "markdown",
   "id": "5666177b",
   "metadata": {},
   "source": [
    "## Dataset Loading and EDA"
   ]
  },
  {
   "cell_type": "code",
   "execution_count": null,
   "id": "f8bc0f67",
   "metadata": {},
   "outputs": [],
   "source": [
    "df = pd.read_csv('./fine_tuning_project/Q2_20230202_majority 1.csv')"
   ]
  },
  {
   "cell_type": "code",
   "execution_count": null,
   "id": "bafab6e8",
   "metadata": {},
   "outputs": [],
   "source": [
    "df['label_majority'].value_counts()"
   ]
  },
  {
   "cell_type": "code",
   "execution_count": null,
   "id": "1e1cca37",
   "metadata": {},
   "outputs": [],
   "source": [
    "df_infavor = df[df['label_majority'] == 'in-favor']\n",
    "df_against = df[df['label_majority'] == 'against']\n",
    "df_neutral = df[df['label_majority'] == 'neutral-or-unclear']"
   ]
  },
  {
   "cell_type": "code",
   "execution_count": null,
   "id": "8f058748",
   "metadata": {},
   "outputs": [],
   "source": [
    "df_infavor = df_infavor.sample(n=len(df_neutral))\n",
    "df_against = df_against.sample(n=len(df_neutral))"
   ]
  },
  {
   "cell_type": "code",
   "execution_count": null,
   "id": "dd616925",
   "metadata": {},
   "outputs": [],
   "source": [
    "df_finetuning = pd.concat([df_infavor,df_against,df_neutral])[['tweet','label_majority']]"
   ]
  },
  {
   "cell_type": "code",
   "execution_count": null,
   "id": "0c0cd8ca",
   "metadata": {},
   "outputs": [],
   "source": [
    "X = list(df_finetuning['tweet'])\n",
    "y = list(df_finetuning['label_majority'])"
   ]
  },
  {
   "cell_type": "markdown",
   "id": "8c021ddf",
   "metadata": {},
   "source": [
    "## Splitting into training and testing sets"
   ]
  },
  {
   "cell_type": "code",
   "execution_count": null,
   "id": "87bffcf1",
   "metadata": {},
   "outputs": [],
   "source": [
    "def split_data(feature_arr, label_arr, train_size,val_size):\n",
    "  X_train, X_test, y_train, y_test = train_test_split(feature_arr,label_arr,train_size=train_size,random_state=42,shuffle=True)\n",
    "  X_val, X_val, y_val, y_test = train_test_split(X_test,y_test,train_size=val_size,random_state=42,shuffle=True)\n",
    "  return X_train, X_val, X_test, y_train, y_val, y_test"
   ]
  },
  {
   "cell_type": "code",
   "execution_count": null,
   "id": "42334ee9",
   "metadata": {},
   "outputs": [],
   "source": [
    "train_size = 0.8\n",
    "val_size = 0.1\n",
    "X_train, X_val, X_test, y_train, y_val, y_test = split_data(X,y,train_size,val_size)"
   ]
  },
  {
   "cell_type": "markdown",
   "id": "7d3b7b1b",
   "metadata": {},
   "source": [
    "## Loading pretained weights and tokenizer"
   ]
  },
  {
   "cell_type": "code",
   "execution_count": null,
   "id": "df328b6e",
   "metadata": {},
   "outputs": [],
   "source": [
    "# Load model directly\n",
    "tokenizer = T5Tokenizer.from_pretrained(\"google/flan-t5-large\")\n",
    "model = T5ForConditionalGeneration.from_pretrained(\"google/flan-t5-large\", device_map=\"auto\")"
   ]
  },
  {
   "cell_type": "code",
   "execution_count": null,
   "id": "50c05e27",
   "metadata": {},
   "outputs": [],
   "source": []
  }
 ],
 "metadata": {
  "kernelspec": {
   "display_name": "myenv",
   "language": "python",
   "name": "python3"
  },
  "language_info": {
   "codemirror_mode": {
    "name": "ipython",
    "version": 3
   },
   "file_extension": ".py",
   "mimetype": "text/x-python",
   "name": "python",
   "nbconvert_exporter": "python",
   "pygments_lexer": "ipython3",
   "version": "3.13.5"
  }
 },
 "nbformat": 4,
 "nbformat_minor": 5
}
