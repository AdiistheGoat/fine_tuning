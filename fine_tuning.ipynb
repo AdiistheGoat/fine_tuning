{
 "cells": [
  {
   "cell_type": "markdown",
   "id": "b7ccd345",
   "metadata": {},
   "source": [
    "## Importing libraries "
   ]
  },
  {
   "cell_type": "code",
   "execution_count": 13,
   "id": "88de7004",
   "metadata": {},
   "outputs": [],
   "source": [
    "from transformers import T5Tokenizer, T5ForConditionalGeneration\n",
    "import pandas as pd\n",
    "from sklearn.model_selection import train_test_split\n",
    "from sklearn.preprocessing import LabelEncoder"
   ]
  },
  {
   "cell_type": "code",
   "execution_count": 46,
   "id": "c59d659f",
   "metadata": {},
   "outputs": [],
   "source": [
    "import torch\n",
    "from torch.utils.data import DataLoader, TensorDataset"
   ]
  },
  {
   "cell_type": "code",
   "execution_count": 2,
   "id": "1b760218",
   "metadata": {},
   "outputs": [
    {
     "name": "stderr",
     "output_type": "stream",
     "text": [
      "You are using the default legacy behaviour of the <class 'transformers.models.t5.tokenization_t5.T5Tokenizer'>. This is expected, and simply means that the `legacy` (previous) behavior will be used so nothing changes for you. If you want to use the new behaviour, set `legacy=False`. This should only be set if you understand what it means, and thoroughly read the reason why this was added as explained in https://github.com/huggingface/transformers/pull/24565\n"
     ]
    }
   ],
   "source": [
    "# Load model directly\n",
    "tokenizer = T5Tokenizer.from_pretrained(\"google/flan-t5-large\")\n",
    "model = T5ForConditionalGeneration.from_pretrained(\"google/flan-t5-large\", device_map=\"auto\")"
   ]
  },
  {
   "cell_type": "markdown",
   "id": "5666177b",
   "metadata": {},
   "source": [
    "## Cleaning Dataset and EDA"
   ]
  },
  {
   "cell_type": "code",
   "execution_count": 3,
   "id": "f8bc0f67",
   "metadata": {},
   "outputs": [],
   "source": [
    "df = pd.read_csv('Q2_20230202_majority 1.csv')"
   ]
  },
  {
   "cell_type": "code",
   "execution_count": 5,
   "id": "bafab6e8",
   "metadata": {},
   "outputs": [
    {
     "data": {
      "text/plain": [
       "label_majority\n",
       "in-favor              2907\n",
       "against               1804\n",
       "neutral-or-unclear    1040\n",
       "Name: count, dtype: int64"
      ]
     },
     "execution_count": 5,
     "metadata": {},
     "output_type": "execute_result"
    }
   ],
   "source": [
    "df['label_majority'].value_counts()"
   ]
  },
  {
   "cell_type": "code",
   "execution_count": 6,
   "id": "1e1cca37",
   "metadata": {},
   "outputs": [],
   "source": [
    "df_infavor = df[df['label_majority'] == 'in-favor']\n",
    "df_against = df[df['label_majority'] == 'against']\n",
    "df_neutral = df[df['label_majority'] == 'neutral-or-unclear']"
   ]
  },
  {
   "cell_type": "code",
   "execution_count": 7,
   "id": "8f058748",
   "metadata": {},
   "outputs": [],
   "source": [
    "df_infavor = df_infavor.sample(n=len(df_neutral))\n",
    "df_against = df_against.sample(n=len(df_neutral))"
   ]
  },
  {
   "cell_type": "code",
   "execution_count": 8,
   "id": "dd616925",
   "metadata": {},
   "outputs": [],
   "source": [
    "df_finetuning = pd.concat([df_infavor,df_against,df_neutral])[['tweet','label_majority']]"
   ]
  },
  {
   "cell_type": "code",
   "execution_count": null,
   "id": "0c0cd8ca",
   "metadata": {},
   "outputs": [],
   "source": [
    "list_tweets = list(df_finetuning['tweet'])\n",
    "list_labels = list(df_finetuning['label_majority'])"
   ]
  },
  {
   "cell_type": "code",
   "execution_count": 72,
   "id": "d5c21c58",
   "metadata": {},
   "outputs": [],
   "source": [
    "le = LabelEncoder()\n",
    "y = le.fit_transform(list_labels)"
   ]
  },
  {
   "cell_type": "code",
   "execution_count": 74,
   "id": "2dd5f914",
   "metadata": {},
   "outputs": [],
   "source": [
    "list_tweets_tokenized = [tokenizer(tweet).input_ids for tweet in list_tweets]"
   ]
  },
  {
   "cell_type": "code",
   "execution_count": 77,
   "id": "c7cd9b7d",
   "metadata": {},
   "outputs": [],
   "source": [
    "max_token_length = max(len(list_tweets_tokenized) for tweet in list_tweets_tokenized)\n",
    "pad_token_id = tokenizer.eos_token_id\n",
    "X = [ tweet_tokenized + [pad_token_id]*(max_token_length-len(tweet_tokenized)) for tweet_tokenized in list_tweets_tokenized ]"
   ]
  },
  {
   "cell_type": "markdown",
   "id": "8c021ddf",
   "metadata": {},
   "source": [
    "## splitting training and testing set"
   ]
  },
  {
   "cell_type": "code",
   "execution_count": 86,
   "id": "87bffcf1",
   "metadata": {},
   "outputs": [],
   "source": [
    "def split_data(feature_arr, label_arr, train_size):\n",
    "  X_train, X_test, y_train, y_test = train_test_split(feature_arr,label_arr,train_size=train_size,random_state=42,shuffle=True)\n",
    "  return X_train,X_test, y_train, y_test"
   ]
  },
  {
   "cell_type": "code",
   "execution_count": 87,
   "id": "42334ee9",
   "metadata": {},
   "outputs": [],
   "source": [
    "train_size = 0.8\n",
    "X_train, X_test, y_train, y_test = split_data(X,y,train_size)"
   ]
  },
  {
   "cell_type": "markdown",
   "id": "03b98d99",
   "metadata": {},
   "source": [
    "## Loading the final tensor dataset "
   ]
  },
  {
   "cell_type": "code",
   "execution_count": null,
   "id": "5d4fe77d",
   "metadata": {},
   "outputs": [],
   "source": [
    "X_train = torch.tensor(X_train)\n",
    "X_test = torch.tensor(X_test)\n",
    "y_train = torch.tensor(y_train)\n",
    "y_test = torch.tensor(y_test)"
   ]
  },
  {
   "cell_type": "code",
   "execution_count": 90,
   "id": "4060882a",
   "metadata": {},
   "outputs": [],
   "source": [
    "dataset = TensorDataset(X_train,y_train)\n",
    "train_loader = DataLoader(dataset, batch_size=8,shuffle=True,)\n",
    "test_loader = DataLoader(dataset, batch_size=8,shuffle=True)"
   ]
  },
  {
   "cell_type": "code",
   "execution_count": 4,
   "id": "50c05e27",
   "metadata": {},
   "outputs": [],
   "source": [
    "# Learnings: \n",
    "\n",
    "# model.eval()\n",
    "# \t• Disables dropout and sets batch norm to inference mode.\n",
    "# \t• Does NOT disable gradient tracking.\n",
    "\n",
    "# torch.no_grad()\n",
    "# \tDisables gradient tracking (no .grad, saves memory, speeds up inference).\n",
    "\n",
    "# model.train()\n",
    "# • enables dropout and sets batch norm to inference mode.\n",
    "\n",
    "# optimizer.zero_grad()\n",
    "# sets all gradients set now to 0 \n"
   ]
  },
  {
   "cell_type": "code",
   "execution_count": null,
   "id": "71dd15f4",
   "metadata": {},
   "outputs": [],
   "source": [
    "# make it into OOPS strcuture\n",
    "\n",
    "# do we need a validation set and why? What are the different hyperparameters...epochs, batch size  \n",
    "# the validation set in the code is actually a test set "
   ]
  }
 ],
 "metadata": {
  "kernelspec": {
   "display_name": "sp-env",
   "language": "python",
   "name": "python3"
  },
  "language_info": {
   "codemirror_mode": {
    "name": "ipython",
    "version": 3
   },
   "file_extension": ".py",
   "mimetype": "text/x-python",
   "name": "python",
   "nbconvert_exporter": "python",
   "pygments_lexer": "ipython3",
   "version": "3.10.18"
  }
 },
 "nbformat": 4,
 "nbformat_minor": 5
}
