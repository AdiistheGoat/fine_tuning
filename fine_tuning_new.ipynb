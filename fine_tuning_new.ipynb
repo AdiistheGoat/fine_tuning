{
 "cells": [
  {
   "cell_type": "markdown",
   "id": "f4976071",
   "metadata": {},
   "source": [
    "### Importing libraries"
   ]
  },
  {
   "cell_type": "code",
   "execution_count": 1,
   "id": "98b7f764",
   "metadata": {},
   "outputs": [
    {
     "name": "stderr",
     "output_type": "stream",
     "text": [
      "/Users/adityagoyal/Desktop/fine_tuning project/venv/lib/python3.11/site-packages/tqdm/auto.py:21: TqdmWarning: IProgress not found. Please update jupyter and ipywidgets. See https://ipywidgets.readthedocs.io/en/stable/user_install.html\n",
      "  from .autonotebook import tqdm as notebook_tqdm\n"
     ]
    }
   ],
   "source": [
    "from transformers import T5Tokenizer, T5ForConditionalGeneration, T5ForSequenceClassification\n",
    "import pandas as pd\n",
    "from sklearn.model_selection import train_test_split\n",
    "from sklearn.preprocessing import LabelEncoder"
   ]
  },
  {
   "cell_type": "code",
   "execution_count": 2,
   "id": "3f2f1cef",
   "metadata": {},
   "outputs": [],
   "source": [
    "import torch\n",
    "from torch.utils.data import DataLoader, TensorDataset\n",
    "import gc"
   ]
  },
  {
   "cell_type": "code",
   "execution_count": 3,
   "id": "99c2ff65",
   "metadata": {},
   "outputs": [
    {
     "name": "stderr",
     "output_type": "stream",
     "text": [
      "You are using the default legacy behaviour of the <class 'transformers.models.t5.tokenization_t5.T5Tokenizer'>. This is expected, and simply means that the `legacy` (previous) behavior will be used so nothing changes for you. If you want to use the new behaviour, set `legacy=False`. This should only be set if you understand what it means, and thoroughly read the reason why this was added as explained in https://github.com/huggingface/transformers/pull/24565\n"
     ]
    }
   ],
   "source": [
    "# Load model directly\n",
    "tokenizer = T5Tokenizer.from_pretrained(\"google/flan-t5-large\")"
   ]
  },
  {
   "cell_type": "code",
   "execution_count": 4,
   "id": "d6357cf6",
   "metadata": {},
   "outputs": [],
   "source": [
    "if(torch.cuda.is_available()):\n",
    "    device = \"cuda\"\n",
    "elif(torch.backends.mps.is_available()):\n",
    "    device = \"mps\"\n",
    "else:\n",
    "    device = \"cpu\"\n",
    "\n",
    "device = torch.device(device=device)"
   ]
  },
  {
   "cell_type": "markdown",
   "id": "3f974fc7",
   "metadata": {},
   "source": [
    "### Preparing data\n"
   ]
  },
  {
   "cell_type": "code",
   "execution_count": 5,
   "id": "b7a5d2a1",
   "metadata": {},
   "outputs": [],
   "source": [
    "df = pd.read_csv('Q2_20230202_majority 1.csv')"
   ]
  },
  {
   "cell_type": "code",
   "execution_count": 6,
   "id": "1a75666d",
   "metadata": {},
   "outputs": [
    {
     "data": {
      "text/plain": [
       "label_majority\n",
       "in-favor              2907\n",
       "against               1804\n",
       "neutral-or-unclear    1040\n",
       "Name: count, dtype: int64"
      ]
     },
     "execution_count": 6,
     "metadata": {},
     "output_type": "execute_result"
    }
   ],
   "source": [
    "df['label_majority'].value_counts()"
   ]
  },
  {
   "cell_type": "code",
   "execution_count": 7,
   "id": "8d03ed1f",
   "metadata": {},
   "outputs": [],
   "source": [
    "df_infavor = df[df['label_majority'] == 'in-favor']\n",
    "df_against = df[df['label_majority'] == 'against']\n",
    "df_neutral = df[df['label_majority'] == 'neutral-or-unclear']"
   ]
  },
  {
   "cell_type": "code",
   "execution_count": 8,
   "id": "360c7ffc",
   "metadata": {},
   "outputs": [],
   "source": [
    "df_infavor = df_infavor.sample(n=len(df_neutral))\n",
    "df_against = df_against.sample(n=len(df_neutral))"
   ]
  },
  {
   "cell_type": "code",
   "execution_count": 9,
   "id": "086b4a80",
   "metadata": {},
   "outputs": [],
   "source": [
    "df_finetuning = pd.concat([df_infavor,df_against,df_neutral])[['tweet','label_majority']]"
   ]
  },
  {
   "cell_type": "code",
   "execution_count": 10,
   "id": "2c1843e3",
   "metadata": {},
   "outputs": [],
   "source": [
    "list_tweets = list(df_finetuning['tweet'])\n",
    "list_labels = list(df_finetuning['label_majority'])"
   ]
  },
  {
   "cell_type": "code",
   "execution_count": 11,
   "id": "fc8b0ca5",
   "metadata": {},
   "outputs": [],
   "source": [
    "for index in range(len(list_tweets)):\n",
    "    list_tweets[index] =  f\"\"\"\n",
    "        What is the stance of the following tweet with respect to COVID-19 vaccine?\n",
    "        Here is the tweet. \"{list_tweets[index]}\"\n",
    "\n",
    "        Please use exactly one word from the following 3 categories to label it:\n",
    "        - \"in-favor\",\n",
    "        - \"against\",\n",
    "        - \"neutral-or-unclear\"\n",
    "\n",
    "        Only output the **exact** category name and nothing else.\n",
    "        \"\"\""
   ]
  },
  {
   "cell_type": "code",
   "execution_count": 12,
   "id": "15ff2ccb",
   "metadata": {},
   "outputs": [],
   "source": [
    "max_token_length = tokenizer.model_max_length\n",
    "list_tweets_sequences = [tokenizer(tweet) for tweet in list_tweets]\n",
    "list_tweets_masks = [tokenizer(tweet).attention_mask for tweet in list_tweets]\n",
    "list_tweets_tokenized = [tokenizer(tweet).input_ids[:max_token_length] for tweet in list_tweets]"
   ]
  },
  {
   "cell_type": "code",
   "execution_count": 13,
   "id": "0649bf47",
   "metadata": {},
   "outputs": [],
   "source": [
    "max_token_length = max(len(tweet) for tweet in list_tweets_tokenized)\n",
    "pad_token_id = tokenizer.pad_token_id\n",
    "X = [ tweet_tokenized + [pad_token_id]*(max_token_length-len(tweet_tokenized)) for tweet_tokenized in list_tweets_tokenized ]"
   ]
  },
  {
   "cell_type": "code",
   "execution_count": 14,
   "id": "592edaf0",
   "metadata": {},
   "outputs": [],
   "source": [
    "unique_values = list(set(list_labels))\n",
    "dic = {}\n",
    "max_len = 0\n",
    "for val in unique_values:\n",
    "  dic[val] = tokenizer(val,return_tensors=\"pt\").input_ids.squeeze().tolist()\n",
    "  max_len = max(max_len,len(dic[val]))\n",
    "\n",
    "for val in dic:\n",
    "  dic[val] = dic[val] + [pad_token_id]*(max_len-len(dic[val]))"
   ]
  },
  {
   "cell_type": "code",
   "execution_count": 15,
   "id": "2c9f1878",
   "metadata": {},
   "outputs": [],
   "source": [
    "y = [dic[label] for label in list_labels]"
   ]
  },
  {
   "cell_type": "markdown",
   "id": "0dda4598",
   "metadata": {},
   "source": [
    "### Splitting training and testing "
   ]
  },
  {
   "cell_type": "code",
   "execution_count": 16,
   "id": "a1b79c60",
   "metadata": {},
   "outputs": [],
   "source": [
    "def split_data(feature_arr, label_arr, train_size):\n",
    "  X_train, X_test, y_train, y_test = train_test_split(feature_arr,label_arr,train_size=train_size,random_state=42,shuffle=True)\n",
    "  return X_train,X_test, y_train, y_test"
   ]
  },
  {
   "cell_type": "code",
   "execution_count": 17,
   "id": "33ccf0f1",
   "metadata": {},
   "outputs": [],
   "source": [
    "train_size = 0.95\n",
    "X_train, X_test, y_train, y_test = split_data(X,y,train_size)"
   ]
  },
  {
   "cell_type": "code",
   "execution_count": 18,
   "id": "17bec890",
   "metadata": {},
   "outputs": [],
   "source": [
    "X_train = torch.tensor(X_train)\n",
    "y_train = torch.tensor(y_train)\n",
    "X_test = torch.tensor(X_test)\n",
    "y_test = torch.tensor(y_test)"
   ]
  },
  {
   "cell_type": "code",
   "execution_count": 19,
   "id": "0c89fc5e",
   "metadata": {},
   "outputs": [],
   "source": [
    "train_dataset = TensorDataset(X_train,y_train)\n",
    "test_dataset = TensorDataset(X_test,y_test)\n",
    "train_loader = DataLoader(train_dataset, batch_size=4,shuffle=True)\n",
    "test_loader = DataLoader(test_dataset, batch_size=4,shuffle=True)"
   ]
  },
  {
   "cell_type": "code",
   "execution_count": 20,
   "id": "fe75f505",
   "metadata": {},
   "outputs": [],
   "source": [
    "model = T5ForConditionalGeneration.from_pretrained(\"google/flan-t5-large\", device_map=\"auto\")\n",
    "num_classes = 3"
   ]
  },
  {
   "cell_type": "code",
   "execution_count": 21,
   "id": "daccdbb5",
   "metadata": {},
   "outputs": [],
   "source": [
    "import math\n",
    "\n",
    "class LoRALayer(torch.nn.Module):\n",
    "    def __init__(self, in_dim, out_dim, rank, alpha):\n",
    "        super().__init__()\n",
    "        self.A = torch.nn.Parameter(torch.zeros(in_dim, rank))\n",
    "        torch.nn.init.kaiming_uniform_(self.A, a=math.sqrt(5))  # similar to standard weight initialization\n",
    "        self.B = torch.nn.Parameter(torch.zeros(rank, out_dim))\n",
    "        self.alpha = alpha\n",
    "\n",
    "    def forward(self, x):\n",
    "        x = self.alpha * (x @ self.A @ self.B)\n",
    "        return x\n",
    "\n",
    "    def parameters(self):\n",
    "        return self.alpha * (self.A @ self.B)"
   ]
  },
  {
   "cell_type": "code",
   "execution_count": 22,
   "id": "682a1a23",
   "metadata": {},
   "outputs": [],
   "source": [
    "class LinearWithLoRA(torch.nn.Module):\n",
    "    def __init__(self, linear, rank, alpha):\n",
    "        super().__init__()\n",
    "        self.linear = linear\n",
    "        self.lora = LoRALayer(\n",
    "            linear.in_features, linear.out_features, rank, alpha\n",
    "        )\n",
    "        self.weight = self.lora.parameters()\n",
    "\n",
    "    def forward(self, x):\n",
    "        return self.linear(x) + self.lora(x)"
   ]
  },
  {
   "cell_type": "code",
   "execution_count": 23,
   "id": "e16b81c8",
   "metadata": {},
   "outputs": [],
   "source": [
    "def replace_linear_with_lora(model, rank, alpha):\n",
    "    for name, module in model.named_children():\n",
    "        if isinstance(module, torch.nn.Linear):\n",
    "            # Replace the Linear layer with LinearWithLoRA\n",
    "            setattr(model, name, LinearWithLoRA(module, rank, alpha))\n",
    "        else:\n",
    "            # Recursively apply the same function to child modules\n",
    "            replace_linear_with_lora(module, rank, alpha)"
   ]
  },
  {
   "cell_type": "code",
   "execution_count": 24,
   "id": "34c65e6c",
   "metadata": {},
   "outputs": [
    {
     "name": "stdout",
     "output_type": "stream",
     "text": [
      "Total trainable parameters before: 783,150,080\n",
      "Total trainable parameters after: 0\n"
     ]
    }
   ],
   "source": [
    "total_params = sum(p.numel() for p in model.parameters() if p.requires_grad)\n",
    "print(f\"Total trainable parameters before: {total_params:,}\")\n",
    "\n",
    "for param in model.parameters():\n",
    "    param.requires_grad = False\n",
    "\n",
    "total_params = sum(p.numel() for p in model.parameters() if p.requires_grad)\n",
    "print(f\"Total trainable parameters after: {total_params:,}\")"
   ]
  },
  {
   "cell_type": "code",
   "execution_count": 25,
   "id": "4fcb1581",
   "metadata": {},
   "outputs": [],
   "source": [
    "replace_linear_with_lora(model, rank=16, alpha=16)"
   ]
  },
  {
   "cell_type": "code",
   "execution_count": 26,
   "id": "a6bd888e",
   "metadata": {},
   "outputs": [
    {
     "name": "stdout",
     "output_type": "stream",
     "text": [
      "Total trainable LoRA parameters: 18,814,976\n"
     ]
    }
   ],
   "source": [
    "# model.lm_head = torch.nn.Linear(in_features=1024, out_features=num_classes,bias=False)\n",
    "total_params = sum(p.numel() for p in model.parameters() if p.requires_grad)\n",
    "print(f\"Total trainable LoRA parameters: {total_params:,}\")"
   ]
  },
  {
   "cell_type": "code",
   "execution_count": 27,
   "id": "448f08ec",
   "metadata": {},
   "outputs": [],
   "source": [
    "model = model.to(device)"
   ]
  },
  {
   "cell_type": "code",
   "execution_count": 28,
   "id": "86cf27be",
   "metadata": {},
   "outputs": [],
   "source": [
    "def generate_category(tweet,max_tokens,mapper,device):\n",
    "  input_ids = tokenizer(tweet, return_tensors=\"pt\").input_ids[:max_tokens].to(device)\n",
    "  output_tokens = model.generate(input_ids)\n",
    "  del input_ids\n",
    "  # torch.cuda.empty_cache()\n",
    "  torch.mps.empty_cache()\n",
    "  predicted_label = tokenizer.decode(output_tokens[0][1:len(output_tokens[0])-1])\n",
    "  print(predicted_label)\n",
    "  if(predicted_label not in mapper):\n",
    "    print(\"issue!!!\")\n",
    "    return \"\"\n",
    "  return predicted_label"
   ]
  },
  {
   "cell_type": "code",
   "execution_count": 29,
   "id": "f590d8d6",
   "metadata": {},
   "outputs": [],
   "source": [
    "optimizer= torch.optim.Adam(model.parameters(), lr=0.0003)\n",
    "loss_fn = torch.nn.CrossEntropyLoss(ignore_index=pad_token_id)\n",
    "no_of_epochs = 4"
   ]
  },
  {
   "cell_type": "code",
   "execution_count": 30,
   "id": "c27cedbe",
   "metadata": {},
   "outputs": [],
   "source": [
    "labels_list = [\"in-favor\",\"against\",\"neutral-or-unclear\"]\n",
    "tokenizer_labels_list = [tokenizer(label,return_tensors=\"pt\")['input_ids'] for label in labels_list]\n",
    "allowed_ids = torch.reshape(torch.cat(tokenizer_labels_list,-1),(-1,)).to(device)\n"
   ]
  },
  {
   "cell_type": "code",
   "execution_count": 32,
   "id": "b77e675f",
   "metadata": {},
   "outputs": [
    {
     "ename": "KeyboardInterrupt",
     "evalue": "",
     "output_type": "error",
     "traceback": [
      "\u001b[31m---------------------------------------------------------------------------\u001b[39m",
      "\u001b[31mKeyboardInterrupt\u001b[39m                         Traceback (most recent call last)",
      "\u001b[36mCell\u001b[39m\u001b[36m \u001b[39m\u001b[32mIn[32]\u001b[39m\u001b[32m, line 16\u001b[39m\n\u001b[32m     14\u001b[39m loss = outputs.loss\n\u001b[32m     15\u001b[39m cumulative_loss += loss.item()\n\u001b[32m---> \u001b[39m\u001b[32m16\u001b[39m \u001b[43mloss\u001b[49m\u001b[43m.\u001b[49m\u001b[43mbackward\u001b[49m\u001b[43m(\u001b[49m\u001b[43m)\u001b[49m\n\u001b[32m     17\u001b[39m optimizer.step()\n\u001b[32m     18\u001b[39m iteration_number += \u001b[38;5;28mlen\u001b[39m(features)\n",
      "\u001b[36mFile \u001b[39m\u001b[32m~/Desktop/fine_tuning project/venv/lib/python3.11/site-packages/torch/_tensor.py:647\u001b[39m, in \u001b[36mTensor.backward\u001b[39m\u001b[34m(self, gradient, retain_graph, create_graph, inputs)\u001b[39m\n\u001b[32m    637\u001b[39m \u001b[38;5;28;01mif\u001b[39;00m has_torch_function_unary(\u001b[38;5;28mself\u001b[39m):\n\u001b[32m    638\u001b[39m     \u001b[38;5;28;01mreturn\u001b[39;00m handle_torch_function(\n\u001b[32m    639\u001b[39m         Tensor.backward,\n\u001b[32m    640\u001b[39m         (\u001b[38;5;28mself\u001b[39m,),\n\u001b[32m   (...)\u001b[39m\u001b[32m    645\u001b[39m         inputs=inputs,\n\u001b[32m    646\u001b[39m     )\n\u001b[32m--> \u001b[39m\u001b[32m647\u001b[39m \u001b[43mtorch\u001b[49m\u001b[43m.\u001b[49m\u001b[43mautograd\u001b[49m\u001b[43m.\u001b[49m\u001b[43mbackward\u001b[49m\u001b[43m(\u001b[49m\n\u001b[32m    648\u001b[39m \u001b[43m    \u001b[49m\u001b[38;5;28;43mself\u001b[39;49m\u001b[43m,\u001b[49m\u001b[43m \u001b[49m\u001b[43mgradient\u001b[49m\u001b[43m,\u001b[49m\u001b[43m \u001b[49m\u001b[43mretain_graph\u001b[49m\u001b[43m,\u001b[49m\u001b[43m \u001b[49m\u001b[43mcreate_graph\u001b[49m\u001b[43m,\u001b[49m\u001b[43m \u001b[49m\u001b[43minputs\u001b[49m\u001b[43m=\u001b[49m\u001b[43minputs\u001b[49m\n\u001b[32m    649\u001b[39m \u001b[43m\u001b[49m\u001b[43m)\u001b[49m\n",
      "\u001b[36mFile \u001b[39m\u001b[32m~/Desktop/fine_tuning project/venv/lib/python3.11/site-packages/torch/autograd/__init__.py:354\u001b[39m, in \u001b[36mbackward\u001b[39m\u001b[34m(tensors, grad_tensors, retain_graph, create_graph, grad_variables, inputs)\u001b[39m\n\u001b[32m    349\u001b[39m     retain_graph = create_graph\n\u001b[32m    351\u001b[39m \u001b[38;5;66;03m# The reason we repeat the same comment below is that\u001b[39;00m\n\u001b[32m    352\u001b[39m \u001b[38;5;66;03m# some Python versions print out the first line of a multi-line function\u001b[39;00m\n\u001b[32m    353\u001b[39m \u001b[38;5;66;03m# calls in the traceback and some print out the last line\u001b[39;00m\n\u001b[32m--> \u001b[39m\u001b[32m354\u001b[39m \u001b[43m_engine_run_backward\u001b[49m\u001b[43m(\u001b[49m\n\u001b[32m    355\u001b[39m \u001b[43m    \u001b[49m\u001b[43mtensors\u001b[49m\u001b[43m,\u001b[49m\n\u001b[32m    356\u001b[39m \u001b[43m    \u001b[49m\u001b[43mgrad_tensors_\u001b[49m\u001b[43m,\u001b[49m\n\u001b[32m    357\u001b[39m \u001b[43m    \u001b[49m\u001b[43mretain_graph\u001b[49m\u001b[43m,\u001b[49m\n\u001b[32m    358\u001b[39m \u001b[43m    \u001b[49m\u001b[43mcreate_graph\u001b[49m\u001b[43m,\u001b[49m\n\u001b[32m    359\u001b[39m \u001b[43m    \u001b[49m\u001b[43minputs_tuple\u001b[49m\u001b[43m,\u001b[49m\n\u001b[32m    360\u001b[39m \u001b[43m    \u001b[49m\u001b[43mallow_unreachable\u001b[49m\u001b[43m=\u001b[49m\u001b[38;5;28;43;01mTrue\u001b[39;49;00m\u001b[43m,\u001b[49m\n\u001b[32m    361\u001b[39m \u001b[43m    \u001b[49m\u001b[43maccumulate_grad\u001b[49m\u001b[43m=\u001b[49m\u001b[38;5;28;43;01mTrue\u001b[39;49;00m\u001b[43m,\u001b[49m\n\u001b[32m    362\u001b[39m \u001b[43m\u001b[49m\u001b[43m)\u001b[49m\n",
      "\u001b[36mFile \u001b[39m\u001b[32m~/Desktop/fine_tuning project/venv/lib/python3.11/site-packages/torch/autograd/graph.py:829\u001b[39m, in \u001b[36m_engine_run_backward\u001b[39m\u001b[34m(t_outputs, *args, **kwargs)\u001b[39m\n\u001b[32m    827\u001b[39m     unregister_hooks = _register_logging_hooks_on_whole_graph(t_outputs)\n\u001b[32m    828\u001b[39m \u001b[38;5;28;01mtry\u001b[39;00m:\n\u001b[32m--> \u001b[39m\u001b[32m829\u001b[39m     \u001b[38;5;28;01mreturn\u001b[39;00m \u001b[43mVariable\u001b[49m\u001b[43m.\u001b[49m\u001b[43m_execution_engine\u001b[49m\u001b[43m.\u001b[49m\u001b[43mrun_backward\u001b[49m\u001b[43m(\u001b[49m\u001b[43m  \u001b[49m\u001b[38;5;66;43;03m# Calls into the C++ engine to run the backward pass\u001b[39;49;00m\n\u001b[32m    830\u001b[39m \u001b[43m        \u001b[49m\u001b[43mt_outputs\u001b[49m\u001b[43m,\u001b[49m\u001b[43m \u001b[49m\u001b[43m*\u001b[49m\u001b[43margs\u001b[49m\u001b[43m,\u001b[49m\u001b[43m \u001b[49m\u001b[43m*\u001b[49m\u001b[43m*\u001b[49m\u001b[43mkwargs\u001b[49m\n\u001b[32m    831\u001b[39m \u001b[43m    \u001b[49m\u001b[43m)\u001b[49m  \u001b[38;5;66;03m# Calls into the C++ engine to run the backward pass\u001b[39;00m\n\u001b[32m    832\u001b[39m \u001b[38;5;28;01mfinally\u001b[39;00m:\n\u001b[32m    833\u001b[39m     \u001b[38;5;28;01mif\u001b[39;00m attach_logging_hooks:\n",
      "\u001b[31mKeyboardInterrupt\u001b[39m: "
     ]
    }
   ],
   "source": [
    "test_accuracy_arr = []\n",
    "for epoch in range(no_of_epochs):\n",
    "    iteration_number = 0\n",
    "    cumulative_loss = 0\n",
    "    for features,labels in train_loader:\n",
    "        model.train()\n",
    "        features = features.to(device)\n",
    "        labels = labels.to(device)\n",
    "        optimizer.zero_grad()\n",
    "        keep_mask = torch.isin(features, allowed_ids) \n",
    "        keep_mask = keep_mask.long().to(device)\n",
    "        outputs = model(input_ids=features,labels=labels,attention_mask=keep_mask)\n",
    "        logits = outputs.logits\n",
    "        loss = outputs.loss\n",
    "        cumulative_loss += loss.item()\n",
    "        loss.backward()\n",
    "        optimizer.step()\n",
    "        iteration_number += len(features)\n",
    "        del features,labels,keep_mask\n",
    "        # torch.cuda.empty_cache()\n",
    "        torch.mps.empty_cache()\n",
    "\n",
    "        if((iteration_number+1)%500==0):\n",
    "            model.eval()\n",
    "            with torch.no_grad():\n",
    "                no_of_correct = 0\n",
    "                no_of_total = 0\n",
    "                for features_test,labels_test in test_loader:\n",
    "                    for idx in range(len(features_test)):\n",
    "                        feature = features_test[idx]\n",
    "                        label = labels_test[idx]\n",
    "                        prompt = f\"\"\" What is the stance of the following tweet with respect to COVID-19 vaccine?\n",
    "                                      Here is the tweet. \"{tokenizer.decode(feature)}\"\n",
    "\n",
    "                                      Please use exactly one word from the following 3 categories to label it:\n",
    "                                      - \"in-favor\",\n",
    "                                      - \"against\",\n",
    "                                      - \"neutral-or-unclear\"\n",
    "\n",
    "                                      Only output the **exact** category name and nothing else.\n",
    "                                      \"\"\"\n",
    "                        label_pred = generate_category(prompt,tokenizer.model_max_length,dic,\"cuda\")\n",
    "                        if(label_pred in tokenizer.decode(label)):\n",
    "                          no_of_correct+=1\n",
    "                        no_of_total+=1\n",
    "                test_accuracy = no_of_correct/float(no_of_total)\n",
    "                test_accuracy_arr.append(test_accuracy)\n",
    "                print(test_accuracy)\n",
    "\n",
    "    print(cumulative_loss)\n"
   ]
  },
  {
   "cell_type": "code",
   "execution_count": null,
   "id": "01764a51",
   "metadata": {},
   "outputs": [],
   "source": [
    "model.to(\"cpu\")"
   ]
  },
  {
   "cell_type": "code",
   "execution_count": null,
   "id": "51cc19b7",
   "metadata": {},
   "outputs": [],
   "source": [
    "label_preds = []\n",
    "for index,row in df.iterrows():\n",
    "    if(index>100):\n",
    "      break\n",
    "    print(index)\n",
    "    prompt = f\"\"\" What is the stance of the following tweet with respect to COVID-19 vaccine?\n",
    "                  Here is the tweet. \"{row['tweet']}\"\n",
    "\n",
    "                  Please use exactly one word from the following 3 categories to label it:\n",
    "                  - \"in-favor\",\n",
    "                  - \"against\",\n",
    "                  - \"neutral-or-unclear\"\n",
    "\n",
    "                  Only output the **exact** category name and nothing else.\n",
    "                  \"\"\"\n",
    "    label_pred = generate_category(prompt,tokenizer.model_max_length,dic,\"cpu\")\n",
    "    label_preds.append(label_pred)"
   ]
  },
  {
   "cell_type": "code",
   "execution_count": null,
   "id": "1e7f7e4e",
   "metadata": {},
   "outputs": [],
   "source": [
    "true_label = df[\"label_majority\"][:101]"
   ]
  },
  {
   "cell_type": "code",
   "execution_count": null,
   "id": "b9d66045",
   "metadata": {},
   "outputs": [],
   "source": [
    "label_preds"
   ]
  },
  {
   "cell_type": "code",
   "execution_count": null,
   "id": "596f2a91",
   "metadata": {},
   "outputs": [],
   "source": [
    "sum(label_preds==true_label)"
   ]
  },
  {
   "cell_type": "code",
   "execution_count": null,
   "id": "ce4c3846",
   "metadata": {},
   "outputs": [],
   "source": [
    "df.to_csv('final_output.csv')"
   ]
  },
  {
   "cell_type": "code",
   "execution_count": null,
   "id": "7e4176d8",
   "metadata": {},
   "outputs": [],
   "source": [
    "torch.save(model.state_dict(), 'model_weights.pth')\n",
    "torch.save(model, 'model.pth')"
   ]
  },
  {
   "cell_type": "code",
   "execution_count": null,
   "id": "d75d22af",
   "metadata": {},
   "outputs": [],
   "source": [
    "def create_padding_mask(seq, pad_token=0):\n",
    "    mask = (seq == pad_token).unsqueeze(1).unsqueeze(2)\n",
    "    return mask  # (batch_size, 1, 1, seq_len)\n",
    "\n",
    "# Example usage\n",
    "seq = torch.tensor([[7, 6, 0, 0], [1, 2, 3, 0]])\n",
    "padding_mask = create_padding_mask(seq)\n",
    "print(padding_mask)"
   ]
  },
  {
   "cell_type": "code",
   "execution_count": null,
   "id": "56f1921a",
   "metadata": {},
   "outputs": [],
   "source": [
    "# the way i am fientuning it is not tokenwise and all batch together\n",
    "# maybe i am fientuning it so much in that way that it has deviated int egenratting those random tokens and the question pormpt has lost meanong\n",
    "# I have to try t finetune it on one epoch and then seeing the results\n",
    "# i think just finetuning on those tokens is gonna mess up the weights for the other tokens "
   ]
  },
  {
   "cell_type": "code",
   "execution_count": null,
   "id": "524d22c6",
   "metadata": {},
   "outputs": [],
   "source": [
    "# no of epochs, learning rate, no of examples\n",
    "# the input_ids geenrate those logits"
   ]
  },
  {
   "cell_type": "code",
   "execution_count": null,
   "id": "527e7bd1",
   "metadata": {},
   "outputs": [],
   "source": [
    "# logits = logits.view(-1, logits.size(-1))\n",
    "# labels = labels.view(-1)\n",
    "# # print(logits.shape)\n",
    "# # print(labels.shape)\n",
    "# loss = loss_fn(logits,labels)"
   ]
  },
  {
   "cell_type": "code",
   "execution_count": null,
   "id": "4ad6b889",
   "metadata": {},
   "outputs": [],
   "source": [
    "# Prompt ≠ supervision: Keep the prompt for context, but compute loss only on the label span (set non-label positions to -100 so CE ignores them).\n",
    "# Batch loss math: CE is per token; the batch loss is the average over unmasked tokens only."
   ]
  },
  {
   "cell_type": "code",
   "execution_count": null,
   "id": "a968a42c",
   "metadata": {},
   "outputs": [],
   "source": [
    "# attention-masking them (zero their attention weights)\n",
    "# logits-masking disallowed vocab at output\n",
    "# ignoring their losses during cross entropy losss computation"
   ]
  }
 ],
 "metadata": {
  "kernelspec": {
   "display_name": "venv",
   "language": "python",
   "name": "python3"
  },
  "language_info": {
   "codemirror_mode": {
    "name": "ipython",
    "version": 3
   },
   "file_extension": ".py",
   "mimetype": "text/x-python",
   "name": "python",
   "nbconvert_exporter": "python",
   "pygments_lexer": "ipython3",
   "version": "3.11.13"
  }
 },
 "nbformat": 4,
 "nbformat_minor": 5
}
